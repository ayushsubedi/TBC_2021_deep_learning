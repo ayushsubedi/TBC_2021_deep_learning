{
 "cells": [
  {
   "cell_type": "markdown",
   "metadata": {},
   "source": [
    "### Intro"
   ]
  },
  {
   "cell_type": "markdown",
   "metadata": {},
   "source": [
    "### Discussions\n",
    "\n",
    "- What is deep learning?\n",
    "- 'unit' (a single neuron)\n",
    "- Keras and Tensorflow\n",
    "- Lets talk about Pytorch\n",
    "\n",
    "\n",
    "### In this course\n",
    "\n",
    "- create fully connected neural network architecture\n",
    "- apply neural nets for regression and classification\n",
    "- train neural nets with stochastic gradient descent\n",
    "- improve performance with dropout, normalization and other techniques"
   ]
  },
  {
   "cell_type": "markdown",
   "metadata": {},
   "source": [
    "### Things we talked about\n",
    "- remember y = mx+b\n",
    "- layers = transformation\n",
    "- 1 input = line\n",
    "- 2 input = plane\n",
    "- 3 input = hyperplane\n",
    "- 4 input = hyperplane\n",
    "- bias is a special kind of weight which enables the neuron to modify the outputs independently to its input\n",
    "- deep learning is a subset of ml which is a subset of ai\n",
    "- keras->API/wrapper for Tensforflow in python\n",
    "- Tensforflow -> google's ML platform (end to end platform)\n",
    "- Stochastic Gradient Descent -> which we will visit again.\n",
    "- applications (nlp, computer vision......)\n",
    "- Architecture: ANN, CNN, RNN, aru NN\n",
    "- building Neural network is expensive \n",
    "- use kaggle kernels or colab notebooks"
   ]
  },
  {
   "cell_type": "code",
   "execution_count": null,
   "metadata": {},
   "outputs": [],
   "source": []
  }
 ],
 "metadata": {
  "kernelspec": {
   "display_name": "Python 3",
   "language": "python",
   "name": "python3"
  },
  "language_info": {
   "codemirror_mode": {
    "name": "ipython",
    "version": 3
   },
   "file_extension": ".py",
   "mimetype": "text/x-python",
   "name": "python",
   "nbconvert_exporter": "python",
   "pygments_lexer": "ipython3",
   "version": "3.8.5"
  }
 },
 "nbformat": 4,
 "nbformat_minor": 4
}
